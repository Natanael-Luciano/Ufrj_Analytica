{
 "cells": [
  {
   "cell_type": "markdown",
   "metadata": {},
   "source": [
    "# Questão 3"
   ]
  },
  {
   "cell_type": "code",
   "execution_count": 35,
   "metadata": {},
   "outputs": [
    {
     "name": "stdout",
     "output_type": "stream",
     "text": [
      "Digite o valor monetário 12135.46\n",
      "NOTAS:\n",
      "121 nota(s) de R$ 100 .00\n",
      "0 nota(s) de R$ 50 .00\n",
      "1 nota(s) de R$ 20 .00\n",
      "1 nota(s) de R$ 10 .00\n",
      "1 nota(s) de R$ 5 .00\n",
      "0 nota(s) de R$ 2 .00\n",
      "Moedas:\n",
      "0 moedas(s) de R$ 1.00\n",
      "0 moedas(s) de R$ 0.50\n",
      "1 moedas(s) de R$ 0.25\n",
      "2 moedas(s) de R$ 0.10\n",
      "0 moedas(s) de R$ 0.05\n",
      "1 moedas(s) de R$ 0.01\n"
     ]
    }
   ],
   "source": [
    "notas = [100, 50, 20, 10, 5, 2]\n",
    "moedas = [1,0.50, 0.25, 0.10, 0.05, 0.01]\n",
    "valor = float(input(\"Digite o valor monetário \"))\n",
    "valor_nota = int(valor)\n",
    "valor_moeda = valor - valor_nota\n",
    "print(\"NOTAS:\")\n",
    "for i in notas:\n",
    "    print(valor_nota//i, 'nota(s) de R$',i,'.00' )\n",
    "    valor_nota = valor_nota%i\n",
    "valor_moeda += valor_nota \n",
    "print('MOEDAS:')       # O PHYTHON ESTAVA ANDO ERRO NUMÉRICO, POR ISSO PRECISEI FORÇAR O ARREDONDAMENTO DO NÚMERO\n",
    "for i in moedas:\n",
    "    print(int(valor_moeda//i), 'moedas(s) de R$',format(i,'.2f'))\n",
    "    valor_moeda = round(valor_moeda%i,2)\n"
   ]
  }
 ],
 "metadata": {
  "kernelspec": {
   "display_name": "Python 3",
   "language": "python",
   "name": "python3"
  },
  "language_info": {
   "codemirror_mode": {
    "name": "ipython",
    "version": 3
   },
   "file_extension": ".py",
   "mimetype": "text/x-python",
   "name": "python",
   "nbconvert_exporter": "python",
   "pygments_lexer": "ipython3",
   "version": "3.8.3"
  }
 },
 "nbformat": 4,
 "nbformat_minor": 4
}
