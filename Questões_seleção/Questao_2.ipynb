{
 "cells": [
  {
   "cell_type": "markdown",
   "metadata": {},
   "source": [
    "# Questão 2"
   ]
  },
  {
   "cell_type": "code",
   "execution_count": 15,
   "metadata": {},
   "outputs": [
    {
     "name": "stdout",
     "output_type": "stream",
     "text": [
      "posição inicial a2\n",
      "posição final a3\n",
      "posição inválida\n"
     ]
    }
   ],
   "source": [
    "dic = {'a':0 ,'b':1 ,'c':2 ,'d':3 , 'e':4 ,'f':5 ,'g':6, 'h':7}\n",
    "\n",
    "inicial = input(\"posição inicial \")\n",
    "final = input(\"posição final \")\n",
    "x_var = abs(dic[inicial[0]] - dic[final[0]])\n",
    "y_var = abs(int(inicial[1]) - int(final[1]))\n",
    "if (x_var == 2 and y_var == 1) or (x_var == 1 and y_var == 2):\n",
    "    print('posição válida')\n",
    "else:\n",
    "    print('posição inválida')\n",
    "    "
   ]
  }
 ],
 "metadata": {
  "kernelspec": {
   "display_name": "Python 3",
   "language": "python",
   "name": "python3"
  },
  "language_info": {
   "codemirror_mode": {
    "name": "ipython",
    "version": 3
   },
   "file_extension": ".py",
   "mimetype": "text/x-python",
   "name": "python",
   "nbconvert_exporter": "python",
   "pygments_lexer": "ipython3",
   "version": "3.8.3"
  }
 },
 "nbformat": 4,
 "nbformat_minor": 4
}
